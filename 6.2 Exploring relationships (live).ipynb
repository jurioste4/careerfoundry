{
 "cells": [
  {
   "cell_type": "markdown",
   "metadata": {},
   "source": [
    "# 6.2 Exploring relationships"
   ]
  },
  {
   "cell_type": "markdown",
   "metadata": {},
   "source": [
    "### This script contains the following:\n",
    "\n",
    "#### 1. Importing Visualization Libraries and Data\n",
    "#### 2. Data Cleaning\n",
    "#### 3. Exploring Relationships\n",
    "     Correlations\n",
    "     Scatterplots\n",
    "     Pair Plots\n",
    "     Categorical Plots"
   ]
  },
  {
   "cell_type": "markdown",
   "metadata": {},
   "source": [
    "### 1. Importing Visualization Libraries and Data"
   ]
  },
  {
   "cell_type": "code",
   "execution_count": 1,
   "metadata": {},
   "outputs": [],
   "source": [
    "import pandas as pd\n",
    "import numpy as np\n",
    "import seaborn as sns\n",
    "import matplotlib.pyplot as plt\n",
    "import matplotlib\n",
    "import os"
   ]
  },
  {
   "cell_type": "markdown",
   "metadata": {},
   "source": [
    "#### Note about matplotlib:\n",
    "\n",
    "There are certain bugs associated with some versions of matplotlib. Before you start your analysis, you should check what version you have by typing `matplotlib.__version__` in a Jupyter cell and executing it. If it shows version 3.1.1, you'll likely experience some problems with the way the heatmap appears.\n",
    "\n",
    "To circumvent this, we recommend opening a new Anaconda terminal and executing this command: `conda update --all`. This will update all of your packages and install the newest version of matplotlib, where this bug has been fixed. \n",
    "\n",
    "Then, restart the kernel for your notebook (so it can pick up any changes to your library versions) and rerun your code, which will re-import the libraries in your notebook. Check the version again, and you should have the latest version installed."
   ]
  },
  {
   "cell_type": "code",
   "execution_count": 2,
   "metadata": {},
   "outputs": [
    {
     "data": {
      "text/plain": [
       "'3.1.3'"
      ]
     },
     "execution_count": 2,
     "metadata": {},
     "output_type": "execute_result"
    }
   ],
   "source": [
    "matplotlib.__version__"
   ]
  },
  {
   "cell_type": "code",
   "execution_count": 3,
   "metadata": {},
   "outputs": [],
   "source": [
    "# This option ensures the charts you create are displayed in the notebook without the need to \"call\" them specifically.\n",
    "\n",
    "%matplotlib inline"
   ]
  },
  {
   "cell_type": "code",
   "execution_count": 7,
   "metadata": {},
   "outputs": [],
   "source": [
    "# Define path\n",
    "\n",
    "path = 'data/'"
   ]
  },
  {
   "cell_type": "code",
   "execution_count": 8,
   "metadata": {},
   "outputs": [],
   "source": [
    "# Import data\n",
    "# df = pd.read_csv(path, 'real_estate.csv')\n",
    "df = pd.read_csv(os.path.join(path, 'real_estate.csv'))"
   ]
  },
  {
   "cell_type": "markdown",
   "metadata": {},
   "source": [
    "### 2. Data Cleaning"
   ]
  },
  {
   "cell_type": "markdown",
   "metadata": {},
   "source": [
    "#### Renaming Columns:"
   ]
  },
  {
   "cell_type": "code",
   "execution_count": 9,
   "metadata": {},
   "outputs": [
    {
     "data": {
      "text/plain": [
       "(414, 8)"
      ]
     },
     "execution_count": 9,
     "metadata": {},
     "output_type": "execute_result"
    }
   ],
   "source": [
    "df.shape"
   ]
  },
  {
   "cell_type": "code",
   "execution_count": 10,
   "metadata": {},
   "outputs": [
    {
     "data": {
      "text/plain": [
       "Index(['No', 'X1 transaction date', 'X2 house age',\n",
       "       'X3 distance to the nearest MRT station',\n",
       "       'X4 number of convenience stores', 'X5 latitude', 'X6 longitude',\n",
       "       'Y house price of unit area'],\n",
       "      dtype='object')"
      ]
     },
     "execution_count": 10,
     "metadata": {},
     "output_type": "execute_result"
    }
   ],
   "source": [
    "df.columns"
   ]
  },
  {
   "cell_type": "code",
   "execution_count": 11,
   "metadata": {},
   "outputs": [],
   "source": [
    "# Rename columns whose names are too long\n",
    "\n",
    "df.rename(columns = {'X1 transaction date' : 'Date', 'X2 house age': 'House age', 'X3 distance to the nearest MRT station': 'D. metro', 'X4 number of convenience stores': 'N. shops', 'Y house price of unit area': 'Price per unit', 'X5 latitude' : 'Latitude', 'X6 longitude' : 'Longitude' }, inplace = True)"
   ]
  },
  {
   "cell_type": "code",
   "execution_count": 12,
   "metadata": {},
   "outputs": [
    {
     "data": {
      "text/plain": [
       "No                  int64\n",
       "Date              float64\n",
       "House age         float64\n",
       "D. metro          float64\n",
       "N. shops            int64\n",
       "Latitude          float64\n",
       "Longitude         float64\n",
       "Price per unit    float64\n",
       "dtype: object"
      ]
     },
     "execution_count": 12,
     "metadata": {},
     "output_type": "execute_result"
    }
   ],
   "source": [
    "df.dtypes"
   ]
  },
  {
   "cell_type": "code",
   "execution_count": 13,
   "metadata": {},
   "outputs": [
    {
     "data": {
      "text/html": [
       "<div>\n",
       "<style scoped>\n",
       "    .dataframe tbody tr th:only-of-type {\n",
       "        vertical-align: middle;\n",
       "    }\n",
       "\n",
       "    .dataframe tbody tr th {\n",
       "        vertical-align: top;\n",
       "    }\n",
       "\n",
       "    .dataframe thead th {\n",
       "        text-align: right;\n",
       "    }\n",
       "</style>\n",
       "<table border=\"1\" class=\"dataframe\">\n",
       "  <thead>\n",
       "    <tr style=\"text-align: right;\">\n",
       "      <th></th>\n",
       "      <th>No</th>\n",
       "      <th>Date</th>\n",
       "      <th>House age</th>\n",
       "      <th>D. metro</th>\n",
       "      <th>N. shops</th>\n",
       "      <th>Latitude</th>\n",
       "      <th>Longitude</th>\n",
       "      <th>Price per unit</th>\n",
       "    </tr>\n",
       "  </thead>\n",
       "  <tbody>\n",
       "    <tr>\n",
       "      <th>0</th>\n",
       "      <td>1</td>\n",
       "      <td>2012.917</td>\n",
       "      <td>32.0</td>\n",
       "      <td>84.87882</td>\n",
       "      <td>10</td>\n",
       "      <td>24.98298</td>\n",
       "      <td>121.54024</td>\n",
       "      <td>37.9</td>\n",
       "    </tr>\n",
       "    <tr>\n",
       "      <th>1</th>\n",
       "      <td>2</td>\n",
       "      <td>2012.917</td>\n",
       "      <td>19.5</td>\n",
       "      <td>306.59470</td>\n",
       "      <td>9</td>\n",
       "      <td>24.98034</td>\n",
       "      <td>121.53951</td>\n",
       "      <td>42.2</td>\n",
       "    </tr>\n",
       "    <tr>\n",
       "      <th>2</th>\n",
       "      <td>3</td>\n",
       "      <td>2013.583</td>\n",
       "      <td>13.3</td>\n",
       "      <td>561.98450</td>\n",
       "      <td>5</td>\n",
       "      <td>24.98746</td>\n",
       "      <td>121.54391</td>\n",
       "      <td>47.3</td>\n",
       "    </tr>\n",
       "    <tr>\n",
       "      <th>3</th>\n",
       "      <td>4</td>\n",
       "      <td>2013.500</td>\n",
       "      <td>13.3</td>\n",
       "      <td>561.98450</td>\n",
       "      <td>5</td>\n",
       "      <td>24.98746</td>\n",
       "      <td>121.54391</td>\n",
       "      <td>54.8</td>\n",
       "    </tr>\n",
       "    <tr>\n",
       "      <th>4</th>\n",
       "      <td>5</td>\n",
       "      <td>2012.833</td>\n",
       "      <td>5.0</td>\n",
       "      <td>390.56840</td>\n",
       "      <td>5</td>\n",
       "      <td>24.97937</td>\n",
       "      <td>121.54245</td>\n",
       "      <td>43.1</td>\n",
       "    </tr>\n",
       "  </tbody>\n",
       "</table>\n",
       "</div>"
      ],
      "text/plain": [
       "   No      Date  House age   D. metro  N. shops  Latitude  Longitude  \\\n",
       "0   1  2012.917       32.0   84.87882        10  24.98298  121.54024   \n",
       "1   2  2012.917       19.5  306.59470         9  24.98034  121.53951   \n",
       "2   3  2013.583       13.3  561.98450         5  24.98746  121.54391   \n",
       "3   4  2013.500       13.3  561.98450         5  24.98746  121.54391   \n",
       "4   5  2012.833        5.0  390.56840         5  24.97937  121.54245   \n",
       "\n",
       "   Price per unit  \n",
       "0            37.9  \n",
       "1            42.2  \n",
       "2            47.3  \n",
       "3            54.8  \n",
       "4            43.1  "
      ]
     },
     "execution_count": 13,
     "metadata": {},
     "output_type": "execute_result"
    }
   ],
   "source": [
    "df.head()"
   ]
  },
  {
   "cell_type": "markdown",
   "metadata": {},
   "source": [
    "#### Missing Values Check:"
   ]
  },
  {
   "cell_type": "code",
   "execution_count": 14,
   "metadata": {},
   "outputs": [
    {
     "data": {
      "text/plain": [
       "No                0\n",
       "Date              0\n",
       "House age         0\n",
       "D. metro          0\n",
       "N. shops          0\n",
       "Latitude          0\n",
       "Longitude         0\n",
       "Price per unit    0\n",
       "dtype: int64"
      ]
     },
     "execution_count": 14,
     "metadata": {},
     "output_type": "execute_result"
    }
   ],
   "source": [
    "# Check for missing values\n",
    "\n",
    "df.isnull().sum() # No missing values!"
   ]
  },
  {
   "cell_type": "markdown",
   "metadata": {},
   "source": [
    "#### Duplicates Check:"
   ]
  },
  {
   "cell_type": "code",
   "execution_count": 15,
   "metadata": {},
   "outputs": [],
   "source": [
    "# Find duplicates\n",
    "\n",
    "df_dups = df[df.duplicated()]"
   ]
  },
  {
   "cell_type": "code",
   "execution_count": 16,
   "metadata": {},
   "outputs": [
    {
     "data": {
      "text/plain": [
       "(0, 8)"
      ]
     },
     "execution_count": 16,
     "metadata": {},
     "output_type": "execute_result"
    }
   ],
   "source": [
    "df_dups.shape # No duplicatess!"
   ]
  },
  {
   "cell_type": "markdown",
   "metadata": {},
   "source": [
    "#### Mixed-Type Data:"
   ]
  },
  {
   "cell_type": "code",
   "execution_count": 17,
   "metadata": {},
   "outputs": [],
   "source": [
    "for col in df.columns.tolist():\n",
    "      weird = (df[[col]].applymap(type) != df[[col]].iloc[0].apply(type)).any(axis = 1)\n",
    "      if len (df[weird]) > 0:\n",
    "        print (col)\n",
    "        \n",
    "# No mixed-type columns either!"
   ]
  },
  {
   "cell_type": "markdown",
   "metadata": {},
   "source": [
    "### 3. Exploring Relationships"
   ]
  },
  {
   "cell_type": "markdown",
   "metadata": {},
   "source": [
    "### Correlations:"
   ]
  },
  {
   "cell_type": "code",
   "execution_count": 18,
   "metadata": {},
   "outputs": [
    {
     "data": {
      "text/html": [
       "<div>\n",
       "<style scoped>\n",
       "    .dataframe tbody tr th:only-of-type {\n",
       "        vertical-align: middle;\n",
       "    }\n",
       "\n",
       "    .dataframe tbody tr th {\n",
       "        vertical-align: top;\n",
       "    }\n",
       "\n",
       "    .dataframe thead th {\n",
       "        text-align: right;\n",
       "    }\n",
       "</style>\n",
       "<table border=\"1\" class=\"dataframe\">\n",
       "  <thead>\n",
       "    <tr style=\"text-align: right;\">\n",
       "      <th></th>\n",
       "      <th>No</th>\n",
       "      <th>Date</th>\n",
       "      <th>House age</th>\n",
       "      <th>D. metro</th>\n",
       "      <th>N. shops</th>\n",
       "      <th>Latitude</th>\n",
       "      <th>Longitude</th>\n",
       "      <th>Price per unit</th>\n",
       "    </tr>\n",
       "  </thead>\n",
       "  <tbody>\n",
       "    <tr>\n",
       "      <th>No</th>\n",
       "      <td>1.000000</td>\n",
       "      <td>-0.048658</td>\n",
       "      <td>-0.032808</td>\n",
       "      <td>-0.013573</td>\n",
       "      <td>-0.012699</td>\n",
       "      <td>-0.010110</td>\n",
       "      <td>-0.011059</td>\n",
       "      <td>-0.028587</td>\n",
       "    </tr>\n",
       "    <tr>\n",
       "      <th>Date</th>\n",
       "      <td>-0.048658</td>\n",
       "      <td>1.000000</td>\n",
       "      <td>0.017549</td>\n",
       "      <td>0.060880</td>\n",
       "      <td>0.009635</td>\n",
       "      <td>0.035058</td>\n",
       "      <td>-0.041082</td>\n",
       "      <td>0.087491</td>\n",
       "    </tr>\n",
       "    <tr>\n",
       "      <th>House age</th>\n",
       "      <td>-0.032808</td>\n",
       "      <td>0.017549</td>\n",
       "      <td>1.000000</td>\n",
       "      <td>0.025622</td>\n",
       "      <td>0.049593</td>\n",
       "      <td>0.054420</td>\n",
       "      <td>-0.048520</td>\n",
       "      <td>-0.210567</td>\n",
       "    </tr>\n",
       "    <tr>\n",
       "      <th>D. metro</th>\n",
       "      <td>-0.013573</td>\n",
       "      <td>0.060880</td>\n",
       "      <td>0.025622</td>\n",
       "      <td>1.000000</td>\n",
       "      <td>-0.602519</td>\n",
       "      <td>-0.591067</td>\n",
       "      <td>-0.806317</td>\n",
       "      <td>-0.673613</td>\n",
       "    </tr>\n",
       "    <tr>\n",
       "      <th>N. shops</th>\n",
       "      <td>-0.012699</td>\n",
       "      <td>0.009635</td>\n",
       "      <td>0.049593</td>\n",
       "      <td>-0.602519</td>\n",
       "      <td>1.000000</td>\n",
       "      <td>0.444143</td>\n",
       "      <td>0.449099</td>\n",
       "      <td>0.571005</td>\n",
       "    </tr>\n",
       "    <tr>\n",
       "      <th>Latitude</th>\n",
       "      <td>-0.010110</td>\n",
       "      <td>0.035058</td>\n",
       "      <td>0.054420</td>\n",
       "      <td>-0.591067</td>\n",
       "      <td>0.444143</td>\n",
       "      <td>1.000000</td>\n",
       "      <td>0.412924</td>\n",
       "      <td>0.546307</td>\n",
       "    </tr>\n",
       "    <tr>\n",
       "      <th>Longitude</th>\n",
       "      <td>-0.011059</td>\n",
       "      <td>-0.041082</td>\n",
       "      <td>-0.048520</td>\n",
       "      <td>-0.806317</td>\n",
       "      <td>0.449099</td>\n",
       "      <td>0.412924</td>\n",
       "      <td>1.000000</td>\n",
       "      <td>0.523287</td>\n",
       "    </tr>\n",
       "    <tr>\n",
       "      <th>Price per unit</th>\n",
       "      <td>-0.028587</td>\n",
       "      <td>0.087491</td>\n",
       "      <td>-0.210567</td>\n",
       "      <td>-0.673613</td>\n",
       "      <td>0.571005</td>\n",
       "      <td>0.546307</td>\n",
       "      <td>0.523287</td>\n",
       "      <td>1.000000</td>\n",
       "    </tr>\n",
       "  </tbody>\n",
       "</table>\n",
       "</div>"
      ],
      "text/plain": [
       "                      No      Date  House age  D. metro  N. shops  Latitude  \\\n",
       "No              1.000000 -0.048658  -0.032808 -0.013573 -0.012699 -0.010110   \n",
       "Date           -0.048658  1.000000   0.017549  0.060880  0.009635  0.035058   \n",
       "House age      -0.032808  0.017549   1.000000  0.025622  0.049593  0.054420   \n",
       "D. metro       -0.013573  0.060880   0.025622  1.000000 -0.602519 -0.591067   \n",
       "N. shops       -0.012699  0.009635   0.049593 -0.602519  1.000000  0.444143   \n",
       "Latitude       -0.010110  0.035058   0.054420 -0.591067  0.444143  1.000000   \n",
       "Longitude      -0.011059 -0.041082  -0.048520 -0.806317  0.449099  0.412924   \n",
       "Price per unit -0.028587  0.087491  -0.210567 -0.673613  0.571005  0.546307   \n",
       "\n",
       "                Longitude  Price per unit  \n",
       "No              -0.011059       -0.028587  \n",
       "Date            -0.041082        0.087491  \n",
       "House age       -0.048520       -0.210567  \n",
       "D. metro        -0.806317       -0.673613  \n",
       "N. shops         0.449099        0.571005  \n",
       "Latitude         0.412924        0.546307  \n",
       "Longitude        1.000000        0.523287  \n",
       "Price per unit   0.523287        1.000000  "
      ]
     },
     "execution_count": 18,
     "metadata": {},
     "output_type": "execute_result"
    }
   ],
   "source": [
    "# Create a correlation matrix using pandas\n",
    "\n",
    "df.corr()"
   ]
  },
  {
   "cell_type": "code",
   "execution_count": 19,
   "metadata": {
    "scrolled": true
   },
   "outputs": [
    {
     "data": {
      "image/png": "[encoded data removed]",
      "text/plain": [
       "<Figure size 288x288 with 1 Axes>"
      ]
     },
     "metadata": {
      "needs_background": "light"
     },
     "output_type": "display_data"
    }
   ],
   "source": [
    "# Create a correlation heatmap using matplotlib\n",
    "\n",
    "plt.matshow(df.corr())\n",
    "plt.show()"
   ]
  },
  {
   "cell_type": "code",
   "execution_count": 21,
   "metadata": {
    "scrolled": false
   },
   "outputs": [
    {
     "data": {
      "text/plain": [
       "Text(0.5, 1.05, 'Correlation Matrix')"
      ]
     },
     "execution_count": 21,
     "metadata": {},
     "output_type": "execute_result"
    },
    {
     "data": {
      "image/png": "[encoded data removed]",
      "text/plain": [
       "<Figure size 576x576 with 2 Axes>"
      ]
     },
     "metadata": {
      "needs_background": "light"
     },
     "output_type": "display_data"
    }
   ],
   "source": [
    "# Add labels, a legend, and change the size of the heatmap\n",
    "\n",
    "f = plt.figure(figsize=(8, 8)) # figure size \n",
    "plt.matshow(df.corr(), fignum=f.number) # type of plot\n",
    "plt.xticks(range(df.shape[1]), df.columns, fontsize=14, rotation=45) # x axis labels\n",
    "plt.yticks(range(df.shape[1]), df.columns, fontsize=14) # y axis labels\n",
    "cb = plt.colorbar() # add a colour legend (called colorbar)\n",
    "cb.ax.tick_params(labelsize=14) # add font size\n",
    "plt.title('Correlation Matrix', fontsize=14) # add title"
   ]
  },
  {
   "cell_type": "markdown",
   "metadata": {},
   "source": [
    "#### Create a correlation heatmap using seaborn:"
   ]
  },
  {
   "cell_type": "code",
   "execution_count": 20,
   "metadata": {},
   "outputs": [
    {
     "data": {
      "text/plain": [
       "Index(['No', 'Date', 'House age', 'D. metro', 'N. shops', 'Latitude',\n",
       "       'Longitude', 'Price per unit'],\n",
       "      dtype='object')"
      ]
     },
     "execution_count": 20,
     "metadata": {},
     "output_type": "execute_result"
    }
   ],
   "source": [
    "df.columns"
   ]
  },
  {
   "cell_type": "code",
   "execution_count": 21,
   "metadata": {},
   "outputs": [],
   "source": [
    "# Create a subset excluding the \"Date\" and \"No\" columns\n",
    "\n",
    "sub = df[['House age', 'D. metro', 'N. shops', 'Latitude','Longitude', 'Price per unit']]"
   ]
  },
  {
   "cell_type": "code",
   "execution_count": 22,
   "metadata": {},
   "outputs": [
    {
     "data": {
      "text/html": [
       "<div>\n",
       "<style scoped>\n",
       "    .dataframe tbody tr th:only-of-type {\n",
       "        vertical-align: middle;\n",
       "    }\n",
       "\n",
       "    .dataframe tbody tr th {\n",
       "        vertical-align: top;\n",
       "    }\n",
       "\n",
       "    .dataframe thead th {\n",
       "        text-align: right;\n",
       "    }\n",
       "</style>\n",
       "<table border=\"1\" class=\"dataframe\">\n",
       "  <thead>\n",
       "    <tr style=\"text-align: right;\">\n",
       "      <th></th>\n",
       "      <th>House age</th>\n",
       "      <th>D. metro</th>\n",
       "      <th>N. shops</th>\n",
       "      <th>Latitude</th>\n",
       "      <th>Longitude</th>\n",
       "      <th>Price per unit</th>\n",
       "    </tr>\n",
       "  </thead>\n",
       "  <tbody>\n",
       "    <tr>\n",
       "      <th>0</th>\n",
       "      <td>32.0</td>\n",
       "      <td>84.87882</td>\n",
       "      <td>10</td>\n",
       "      <td>24.98298</td>\n",
       "      <td>121.54024</td>\n",
       "      <td>37.9</td>\n",
       "    </tr>\n",
       "    <tr>\n",
       "      <th>1</th>\n",
       "      <td>19.5</td>\n",
       "      <td>306.59470</td>\n",
       "      <td>9</td>\n",
       "      <td>24.98034</td>\n",
       "      <td>121.53951</td>\n",
       "      <td>42.2</td>\n",
       "    </tr>\n",
       "    <tr>\n",
       "      <th>2</th>\n",
       "      <td>13.3</td>\n",
       "      <td>561.98450</td>\n",
       "      <td>5</td>\n",
       "      <td>24.98746</td>\n",
       "      <td>121.54391</td>\n",
       "      <td>47.3</td>\n",
       "    </tr>\n",
       "    <tr>\n",
       "      <th>3</th>\n",
       "      <td>13.3</td>\n",
       "      <td>561.98450</td>\n",
       "      <td>5</td>\n",
       "      <td>24.98746</td>\n",
       "      <td>121.54391</td>\n",
       "      <td>54.8</td>\n",
       "    </tr>\n",
       "    <tr>\n",
       "      <th>4</th>\n",
       "      <td>5.0</td>\n",
       "      <td>390.56840</td>\n",
       "      <td>5</td>\n",
       "      <td>24.97937</td>\n",
       "      <td>121.54245</td>\n",
       "      <td>43.1</td>\n",
       "    </tr>\n",
       "    <tr>\n",
       "      <th>...</th>\n",
       "      <td>...</td>\n",
       "      <td>...</td>\n",
       "      <td>...</td>\n",
       "      <td>...</td>\n",
       "      <td>...</td>\n",
       "      <td>...</td>\n",
       "    </tr>\n",
       "    <tr>\n",
       "      <th>409</th>\n",
       "      <td>13.7</td>\n",
       "      <td>4082.01500</td>\n",
       "      <td>0</td>\n",
       "      <td>24.94155</td>\n",
       "      <td>121.50381</td>\n",
       "      <td>15.4</td>\n",
       "    </tr>\n",
       "    <tr>\n",
       "      <th>410</th>\n",
       "      <td>5.6</td>\n",
       "      <td>90.45606</td>\n",
       "      <td>9</td>\n",
       "      <td>24.97433</td>\n",
       "      <td>121.54310</td>\n",
       "      <td>50.0</td>\n",
       "    </tr>\n",
       "    <tr>\n",
       "      <th>411</th>\n",
       "      <td>18.8</td>\n",
       "      <td>390.96960</td>\n",
       "      <td>7</td>\n",
       "      <td>24.97923</td>\n",
       "      <td>121.53986</td>\n",
       "      <td>40.6</td>\n",
       "    </tr>\n",
       "    <tr>\n",
       "      <th>412</th>\n",
       "      <td>8.1</td>\n",
       "      <td>104.81010</td>\n",
       "      <td>5</td>\n",
       "      <td>24.96674</td>\n",
       "      <td>121.54067</td>\n",
       "      <td>52.5</td>\n",
       "    </tr>\n",
       "    <tr>\n",
       "      <th>413</th>\n",
       "      <td>6.5</td>\n",
       "      <td>90.45606</td>\n",
       "      <td>9</td>\n",
       "      <td>24.97433</td>\n",
       "      <td>121.54310</td>\n",
       "      <td>63.9</td>\n",
       "    </tr>\n",
       "  </tbody>\n",
       "</table>\n",
       "<p>414 rows × 6 columns</p>\n",
       "</div>"
      ],
      "text/plain": [
       "     House age    D. metro  N. shops  Latitude  Longitude  Price per unit\n",
       "0         32.0    84.87882        10  24.98298  121.54024            37.9\n",
       "1         19.5   306.59470         9  24.98034  121.53951            42.2\n",
       "2         13.3   561.98450         5  24.98746  121.54391            47.3\n",
       "3         13.3   561.98450         5  24.98746  121.54391            54.8\n",
       "4          5.0   390.56840         5  24.97937  121.54245            43.1\n",
       "..         ...         ...       ...       ...        ...             ...\n",
       "409       13.7  4082.01500         0  24.94155  121.50381            15.4\n",
       "410        5.6    90.45606         9  24.97433  121.54310            50.0\n",
       "411       18.8   390.96960         7  24.97923  121.53986            40.6\n",
       "412        8.1   104.81010         5  24.96674  121.54067            52.5\n",
       "413        6.5    90.45606         9  24.97433  121.54310            63.9\n",
       "\n",
       "[414 rows x 6 columns]"
      ]
     },
     "execution_count": 22,
     "metadata": {},
     "output_type": "execute_result"
    }
   ],
   "source": [
    "sub"
   ]
  },
  {
   "cell_type": "code",
   "execution_count": 24,
   "metadata": {},
   "outputs": [
    {
     "data": {
      "image/png": "[encoded data removed]",
      "text/plain": [
       "<Figure size 720x720 with 1 Axes>"
      ]
     },
     "metadata": {
      "needs_background": "light"
     },
     "output_type": "display_data"
    }
   ],
   "source": [
    "# Create a subplot with matplotlib. What it does is create an empty output, but this is okay—it's just to show the subplots.\n",
    "\n",
    "f,ax = plt.subplots(figsize=(10,10))"
   ]
  },
  {
   "cell_type": "code",
   "execution_count": 25,
   "metadata": {},
   "outputs": [],
   "source": [
    "# Create the correlation heatmap in seaborn by applying a heatmap onto the correlation matrix and the subplots defined above.\n",
    "\n",
    "corr = sns.heatmap(sub.corr(), annot = True, ax = ax) \n",
    "\n",
    "# The `annot` argument allows the plot to place the correlation coefficients onto the heatmap.\n"
   ]
  },
  {
   "cell_type": "code",
   "execution_count": 24,
   "metadata": {
    "scrolled": false
   },
   "outputs": [
    {
     "data": {
      "image/png": "[encoded data removed]",
      "text/plain": [
       "<Figure size 720x720 with 2 Axes>"
      ]
     },
     "execution_count": 24,
     "metadata": {},
     "output_type": "execute_result"
    }
   ],
   "source": [
    "corr.figure"
   ]
  },
  {
   "cell_type": "markdown",
   "metadata": {},
   "source": [
    "### Scatterplots:"
   ]
  },
  {
   "cell_type": "code",
   "execution_count": 26,
   "metadata": {},
   "outputs": [
    {
     "data": {
      "text/plain": [
       "<seaborn.axisgrid.FacetGrid at 0x1b4278bb748>"
      ]
     },
     "execution_count": 26,
     "metadata": {},
     "output_type": "execute_result"
    },
    {
     "data": {
      "image/png": "[encoded data removed]",
      "text/plain": [
       "<Figure size 360x360 with 1 Axes>"
      ]
     },
     "metadata": {
      "needs_background": "light"
     },
     "output_type": "display_data"
    }
   ],
   "source": [
    "# Create a scatterplot for the \"house age\" and \"price per unit\" columns in seaborn\n",
    "\n",
    "sns.lmplot(x = 'House age', y = 'Price per unit', data = df)"
   ]
  },
  {
   "cell_type": "markdown",
   "metadata": {},
   "source": [
    "### Pair Plots:"
   ]
  },
  {
   "cell_type": "code",
   "execution_count": 27,
   "metadata": {},
   "outputs": [],
   "source": [
    "# Keep only the variables you want to use in the pair plot\n",
    "\n",
    "sub_2 = sub[['House age', 'D. metro', 'N. shops', 'Price per unit']]"
   ]
  },
  {
   "cell_type": "code",
   "execution_count": 28,
   "metadata": {},
   "outputs": [
    {
     "data": {
      "image/png": "[encoded data removed]",
      "text/plain": [
       "<Figure size 720x720 with 20 Axes>"
      ]
     },
     "metadata": {
      "needs_background": "light"
     },
     "output_type": "display_data"
    }
   ],
   "source": [
    "# Create a pair plot \n",
    "\n",
    "g = sns.pairplot(sub_2)"
   ]
  },
  {
   "cell_type": "markdown",
   "metadata": {},
   "source": [
    "### Categorical Plots:"
   ]
  },
  {
   "cell_type": "markdown",
   "metadata": {},
   "source": [
    "##### Creating a categorical variable that splits the \"Price per Unit\" column into categories"
   ]
  },
  {
   "cell_type": "code",
   "execution_count": 29,
   "metadata": {},
   "outputs": [
    {
     "data": {
      "text/plain": [
       "<matplotlib.axes._subplots.AxesSubplot at 0x1b427557888>"
      ]
     },
     "execution_count": 29,
     "metadata": {},
     "output_type": "execute_result"
    },
    {
     "data": {
      "image/png": "[encoded data removed]",
      "text/plain": [
       "<Figure size 432x288 with 1 Axes>"
      ]
     },
     "metadata": {
      "needs_background": "light"
     },
     "output_type": "display_data"
    }
   ],
   "source": [
    "# Use a histogram to visualize the distribution of the variables. This way, you can determine sensible categories for the price ranges. You don't want to end up with too few observations in any one of the categories.\n",
    "\n",
    "sns.distplot(df['Price per unit'], bins = 20)"
   ]
  },
  {
   "cell_type": "code",
   "execution_count": 30,
   "metadata": {},
   "outputs": [],
   "source": [
    "df.loc[df['Price per unit'] < 20, 'Price category'] = 'Low price'"
   ]
  },
  {
   "cell_type": "code",
   "execution_count": 31,
   "metadata": {},
   "outputs": [],
   "source": [
    "df.loc[(df['Price per unit'] >= 20) & (df['Price per unit'] < 50), 'Price category'] = 'Middle price'"
   ]
  },
  {
   "cell_type": "code",
   "execution_count": 32,
   "metadata": {},
   "outputs": [],
   "source": [
    "df.loc[df['Price per unit'] >= 50, 'Price category'] = 'High price'"
   ]
  },
  {
   "cell_type": "code",
   "execution_count": 33,
   "metadata": {},
   "outputs": [
    {
     "data": {
      "text/plain": [
       "Middle price    305\n",
       "High price       74\n",
       "Low price        35\n",
       "Name: Price category, dtype: int64"
      ]
     },
     "execution_count": 33,
     "metadata": {},
     "output_type": "execute_result"
    }
   ],
   "source": [
    "df['Price category'].value_counts(dropna = False)"
   ]
  },
  {
   "cell_type": "code",
   "execution_count": 34,
   "metadata": {},
   "outputs": [
    {
     "data": {
      "text/plain": [
       "Index(['No', 'Date', 'House age', 'D. metro', 'N. shops', 'Latitude',\n",
       "       'Longitude', 'Price per unit', 'Price category'],\n",
       "      dtype='object')"
      ]
     },
     "execution_count": 34,
     "metadata": {},
     "output_type": "execute_result"
    }
   ],
   "source": [
    "df.columns"
   ]
  },
  {
   "cell_type": "code",
   "execution_count": 36,
   "metadata": {},
   "outputs": [
    {
     "data": {
      "text/html": [
       "<div>\n",
       "<style scoped>\n",
       "    .dataframe tbody tr th:only-of-type {\n",
       "        vertical-align: middle;\n",
       "    }\n",
       "\n",
       "    .dataframe tbody tr th {\n",
       "        vertical-align: top;\n",
       "    }\n",
       "\n",
       "    .dataframe thead th {\n",
       "        text-align: right;\n",
       "    }\n",
       "</style>\n",
       "<table border=\"1\" class=\"dataframe\">\n",
       "  <thead>\n",
       "    <tr style=\"text-align: right;\">\n",
       "      <th></th>\n",
       "      <th>No</th>\n",
       "      <th>Date</th>\n",
       "      <th>House age</th>\n",
       "      <th>D. metro</th>\n",
       "      <th>N. shops</th>\n",
       "      <th>Latitude</th>\n",
       "      <th>Longitude</th>\n",
       "      <th>Price per unit</th>\n",
       "      <th>Price category</th>\n",
       "    </tr>\n",
       "  </thead>\n",
       "  <tbody>\n",
       "    <tr>\n",
       "      <th>0</th>\n",
       "      <td>1</td>\n",
       "      <td>2012.917</td>\n",
       "      <td>32.0</td>\n",
       "      <td>84.87882</td>\n",
       "      <td>10</td>\n",
       "      <td>24.98298</td>\n",
       "      <td>121.54024</td>\n",
       "      <td>37.9</td>\n",
       "      <td>Middle price</td>\n",
       "    </tr>\n",
       "    <tr>\n",
       "      <th>1</th>\n",
       "      <td>2</td>\n",
       "      <td>2012.917</td>\n",
       "      <td>19.5</td>\n",
       "      <td>306.59470</td>\n",
       "      <td>9</td>\n",
       "      <td>24.98034</td>\n",
       "      <td>121.53951</td>\n",
       "      <td>42.2</td>\n",
       "      <td>Middle price</td>\n",
       "    </tr>\n",
       "    <tr>\n",
       "      <th>2</th>\n",
       "      <td>3</td>\n",
       "      <td>2013.583</td>\n",
       "      <td>13.3</td>\n",
       "      <td>561.98450</td>\n",
       "      <td>5</td>\n",
       "      <td>24.98746</td>\n",
       "      <td>121.54391</td>\n",
       "      <td>47.3</td>\n",
       "      <td>Middle price</td>\n",
       "    </tr>\n",
       "    <tr>\n",
       "      <th>3</th>\n",
       "      <td>4</td>\n",
       "      <td>2013.500</td>\n",
       "      <td>13.3</td>\n",
       "      <td>561.98450</td>\n",
       "      <td>5</td>\n",
       "      <td>24.98746</td>\n",
       "      <td>121.54391</td>\n",
       "      <td>54.8</td>\n",
       "      <td>High price</td>\n",
       "    </tr>\n",
       "    <tr>\n",
       "      <th>4</th>\n",
       "      <td>5</td>\n",
       "      <td>2012.833</td>\n",
       "      <td>5.0</td>\n",
       "      <td>390.56840</td>\n",
       "      <td>5</td>\n",
       "      <td>24.97937</td>\n",
       "      <td>121.54245</td>\n",
       "      <td>43.1</td>\n",
       "      <td>Middle price</td>\n",
       "    </tr>\n",
       "  </tbody>\n",
       "</table>\n",
       "</div>"
      ],
      "text/plain": [
       "   No      Date  House age   D. metro  N. shops  Latitude  Longitude  \\\n",
       "0   1  2012.917       32.0   84.87882        10  24.98298  121.54024   \n",
       "1   2  2012.917       19.5  306.59470         9  24.98034  121.53951   \n",
       "2   3  2013.583       13.3  561.98450         5  24.98746  121.54391   \n",
       "3   4  2013.500       13.3  561.98450         5  24.98746  121.54391   \n",
       "4   5  2012.833        5.0  390.56840         5  24.97937  121.54245   \n",
       "\n",
       "   Price per unit Price category  \n",
       "0            37.9   Middle price  \n",
       "1            42.2   Middle price  \n",
       "2            47.3   Middle price  \n",
       "3            54.8     High price  \n",
       "4            43.1   Middle price  "
      ]
     },
     "execution_count": 36,
     "metadata": {},
     "output_type": "execute_result"
    }
   ],
   "source": [
    "df.head()"
   ]
  },
  {
   "cell_type": "code",
   "execution_count": 35,
   "metadata": {},
   "outputs": [
    {
     "data": {
      "image/png": "[encoded data removed]",
      "text/plain": [
       "<Figure size 459.225x360 with 1 Axes>"
      ]
     },
     "metadata": {},
     "output_type": "display_data"
    }
   ],
   "source": [
    "# Create a categorical plot in seaborn using the price categories created above\n",
    "\n",
    "sns.set(style=\"ticks\")\n",
    "g = sns.catplot(x=\"N. shops\", y=\"Price per unit\", hue=\"Price category\", data=df)"
   ]
  },
  {
   "cell_type": "code",
   "execution_count": 37,
   "metadata": {},
   "outputs": [],
   "source": [
    "import plotly.express as px\n"
   ]
  },
  {
   "cell_type": "code",
   "execution_count": 46,
   "metadata": {},
   "outputs": [
    {
     "data": {
      "application/vnd.plotly.v1+json": {
       "config": {
        "plotlyServerURL": "https://plot.ly"
       },
       "data": [
        {
         "hoverlabel": {
          "namelength": 0
         },
         "hovertemplate": "Price category=Middle price<br>N. shops=%{x}<br>Price per unit=%{y}",
         "legendgroup": "Price category=Middle price",
         "marker": {
          "color": "#636efa",
          "symbol": "circle"
         },
         "mode": "markers",
         "name": "Price category=Middle price",
         "showlegend": true,
         "type": "scatter",
         "x": [
          10,
          9,
          5,
          5,
          3,
          7,
          6,
          3,
          1,
          5,
          4,
          4,
          1,
          8,
          7,
          3,
          1,
          7,
          4,
          2,
          5,
          4,
          0,
          7,
          1,
          6,
          0,
          2,
          1,
          6,
          5,
          5,
          6,
          8,
          9,
          4,
          1,
          3,
          5,
          8,
          1,
          5,
          2,
          3,
          0,
          8,
          6,
          5,
          3,
          8,
          0,
          1,
          3,
          3,
          2,
          1,
          4,
          6,
          7,
          7,
          1,
          0,
          0,
          1,
          0,
          4,
          5,
          3,
          4,
          1,
          6,
          6,
          8,
          1,
          2,
          3,
          7,
          3,
          2,
          3,
          5,
          5,
          4,
          0,
          6,
          7,
          8,
          3,
          5,
          8,
          6,
          0,
          5,
          6,
          0,
          5,
          3,
          5,
          5,
          1,
          5,
          8,
          0,
          8,
          7,
          9,
          1,
          6,
          0,
          4,
          5,
          4,
          3,
          1,
          8,
          5,
          1,
          4,
          7,
          3,
          9,
          4,
          1,
          3,
          0,
          3,
          3,
          0,
          8,
          0,
          8,
          2,
          7,
          5,
          0,
          5,
          2,
          8,
          7,
          8,
          0,
          5,
          3,
          5,
          1,
          3,
          10,
          3,
          1,
          8,
          1,
          2,
          3,
          8,
          1,
          6,
          5,
          8,
          0,
          10,
          0,
          6,
          6,
          8,
          0,
          3,
          9,
          4,
          7,
          0,
          0,
          0,
          2,
          7,
          3,
          8,
          3,
          5,
          6,
          0,
          0,
          7,
          2,
          1,
          1,
          0,
          4,
          3,
          3,
          7,
          4,
          3,
          5,
          5,
          0,
          8,
          5,
          1,
          7,
          7,
          5,
          3,
          6,
          3,
          6,
          9,
          1,
          2,
          7,
          5,
          5,
          0,
          5,
          7,
          6,
          3,
          4,
          4,
          10,
          4,
          0,
          3,
          0,
          3,
          0,
          2,
          4,
          5,
          6,
          2,
          7,
          2,
          10,
          5,
          4,
          1,
          6,
          2,
          8,
          3,
          3,
          2,
          5,
          5,
          6,
          2,
          5,
          9,
          0,
          2,
          8,
          0,
          0,
          2,
          5,
          5,
          3,
          3,
          3,
          1,
          1,
          9,
          6,
          0,
          10,
          4,
          10,
          7,
          4,
          1,
          2,
          1,
          3,
          5,
          7,
          5,
          0,
          2,
          8,
          9,
          0,
          4,
          10,
          3,
          4,
          9,
          1,
          6,
          4,
          1,
          4,
          1,
          4,
          2,
          1,
          5,
          3,
          1,
          9,
          5,
          6,
          7,
          0,
          3,
          7
         ],
         "xaxis": "x",
         "y": [
          37.9,
          42.2,
          47.3,
          43.1,
          32.1,
          40.3,
          46.7,
          22.1,
          41.4,
          39.3,
          23.8,
          34.3,
          37.4,
          42.3,
          47.7,
          29.3,
          24.6,
          47.9,
          38.8,
          27,
          33.6,
          47,
          22.1,
          25,
          34.2,
          49.3,
          27.3,
          22.9,
          25.3,
          47.7,
          46.2,
          34.7,
          34.1,
          38.3,
          42,
          44.2,
          20.7,
          27,
          38.9,
          41.9,
          22.6,
          42.4,
          21.3,
          27.7,
          25.3,
          44.3,
          36.2,
          42,
          40.8,
          36.3,
          20,
          29.5,
          36.8,
          25.6,
          29.8,
          26.5,
          40.3,
          36.8,
          48.1,
          43.7,
          27,
          48,
          25.3,
          45.4,
          43.2,
          21.8,
          41,
          34.6,
          38.2,
          32.9,
          45.7,
          30.5,
          47.1,
          26.6,
          34.1,
          28.4,
          39.4,
          23.1,
          46.4,
          30.6,
          31.3,
          48,
          32.5,
          45.5,
          48.6,
          41,
          37.5,
          30.7,
          37.5,
          39.5,
          42.2,
          20.8,
          46.8,
          47.4,
          43.5,
          42.5,
          28.9,
          37.5,
          40.1,
          28.4,
          45.5,
          43.2,
          45.1,
          39.7,
          48.5,
          44.7,
          28.9,
          40.9,
          20.7,
          35.6,
          39.4,
          37.4,
          39.6,
          30.6,
          43.4,
          37.4,
          23.5,
          35.1,
          45.2,
          36.5,
          42,
          36.7,
          42.6,
          23.6,
          21.8,
          21.5,
          25.7,
          22,
          44.3,
          20.5,
          42.3,
          37.8,
          42.7,
          49.3,
          29.3,
          34.6,
          36.6,
          48.2,
          39.1,
          31.6,
          25.5,
          45.9,
          31.5,
          46.1,
          26.6,
          21.4,
          44,
          34.2,
          26.2,
          40.9,
          43.5,
          31.1,
          20.9,
          48.1,
          39.7,
          40.8,
          43.8,
          40.2,
          38.5,
          48.5,
          42.3,
          46,
          49,
          40.2,
          46.6,
          33.4,
          32.4,
          23.9,
          39.3,
          39,
          40.6,
          29.7,
          28.8,
          41.4,
          33.4,
          48.2,
          21.7,
          40.8,
          40.6,
          23.1,
          22.3,
          30,
          25.9,
          26.5,
          43.9,
          28.8,
          30.7,
          24.4,
          31.7,
          40.6,
          38.1,
          23.7,
          41.1,
          40.1,
          23,
          26.5,
          40.5,
          29.3,
          41,
          49.7,
          34,
          27.7,
          44,
          31.1,
          45.4,
          44.8,
          25.6,
          23.5,
          34.4,
          32.9,
          44.5,
          37,
          24.5,
          42.5,
          38.1,
          21.8,
          34.1,
          28.5,
          46.1,
          36.9,
          35.7,
          23.2,
          38.4,
          29.4,
          24.7,
          24.7,
          42.2,
          42.8,
          41.6,
          27.3,
          42,
          37.5,
          49.8,
          26.9,
          37.7,
          33.1,
          42.5,
          31.3,
          38.1,
          36.7,
          23.6,
          39.6,
          38.4,
          22.8,
          36.5,
          35.6,
          30.9,
          36.3,
          42.9,
          37,
          46.6,
          41.2,
          37.9,
          30.8,
          47,
          42.3,
          28.6,
          25.7,
          31.3,
          30.1,
          45.3,
          44.9,
          45.1,
          24.7,
          47.1,
          40,
          48,
          33.1,
          29.5,
          24.8,
          20.9,
          43.1,
          22.8,
          42.1,
          41.5,
          49.5,
          23.8,
          30.5,
          37.4,
          47.3,
          29.3,
          40.3,
          46.6,
          25.6,
          27.3,
          38.6,
          31.3,
          35.3,
          40.3,
          24.7,
          42.5,
          31.9,
          32.2,
          23,
          37.3,
          35.5,
          27.7,
          28.5,
          39.7,
          41.2,
          37.2,
          40.5,
          22.3,
          28.1,
          40.6
         ],
         "yaxis": "y"
        },
        {
         "hoverlabel": {
          "namelength": 0
         },
         "hovertemplate": "Price category=High price<br>N. shops=%{x}<br>Price per unit=%{y}",
         "legendgroup": "Price category=High price",
         "marker": {
          "color": "#EF553B",
          "symbol": "circle"
         },
         "mode": "markers",
         "name": "Price category=High price",
         "showlegend": true,
         "type": "scatter",
         "x": [
          5,
          9,
          2,
          6,
          7,
          5,
          5,
          7,
          4,
          3,
          5,
          7,
          6,
          4,
          6,
          5,
          9,
          10,
          9,
          5,
          9,
          5,
          9,
          6,
          6,
          5,
          8,
          5,
          7,
          4,
          5,
          6,
          5,
          0,
          8,
          5,
          0,
          6,
          5,
          9,
          8,
          5,
          9,
          9,
          10,
          9,
          5,
          6,
          5,
          1,
          3,
          9,
          6,
          7,
          5,
          1,
          5,
          9,
          7,
          5,
          9,
          6,
          5,
          8,
          5,
          1,
          8,
          6,
          5,
          0,
          8,
          9,
          5,
          9
         ],
         "xaxis": "x",
         "y": [
          54.8,
          58.1,
          50.5,
          70.1,
          51.6,
          56.2,
          57.1,
          55.1,
          53.9,
          61.5,
          51.7,
          53.5,
          63.2,
          55,
          50.7,
          56.8,
          59,
          54.4,
          50.8,
          51.8,
          59.5,
          51,
          62.2,
          54.4,
          71,
          51.6,
          53.3,
          59.6,
          57.4,
          62.9,
          55,
          60.7,
          51.4,
          52.2,
          57.8,
          55.5,
          55.2,
          73.6,
          58.8,
          58.1,
          55.9,
          52.2,
          58,
          78.3,
          61.9,
          52.7,
          51.8,
          63.3,
          53,
          117.5,
          55.3,
          56.3,
          51,
          54.4,
          55,
          50.2,
          53,
          78,
          62.1,
          50.4,
          53.5,
          53.7,
          60.7,
          63.3,
          51.7,
          52.2,
          56.8,
          69.7,
          53.3,
          55.3,
          67.7,
          50,
          52.5,
          63.9
         ],
         "yaxis": "y"
        },
        {
         "hoverlabel": {
          "namelength": 0
         },
         "hovertemplate": "Price category=Low price<br>N. shops=%{x}<br>Price per unit=%{y}",
         "legendgroup": "Price category=Low price",
         "marker": {
          "color": "#00cc96",
          "symbol": "circle"
         },
         "mode": "markers",
         "name": "Price category=Low price",
         "showlegend": true,
         "type": "scatter",
         "x": [
          1,
          0,
          0,
          0,
          1,
          0,
          3,
          0,
          0,
          6,
          1,
          0,
          0,
          0,
          0,
          0,
          0,
          0,
          0,
          0,
          0,
          0,
          1,
          1,
          0,
          1,
          0,
          0,
          0,
          0,
          0,
          0,
          1,
          0,
          0
         ],
         "xaxis": "x",
         "y": [
          18.8,
          15.9,
          18.2,
          13.4,
          13.2,
          13.7,
          17.7,
          18.3,
          16.1,
          7.6,
          12.2,
          13,
          15.6,
          18.3,
          11.6,
          14.4,
          19.2,
          15.5,
          18.8,
          12.8,
          19,
          14.7,
          17.4,
          15,
          13.8,
          17.4,
          16.7,
          19.1,
          18.6,
          19.2,
          12.8,
          15.6,
          11.2,
          12.9,
          15.4
         ],
         "yaxis": "y"
        }
       ],
       "layout": {
        "height": 600,
        "legend": {
         "tracegroupgap": 0
        },
        "margin": {
         "t": 60
        },
        "template": {
         "data": {
          "bar": [
           {
            "error_x": {
             "color": "#2a3f5f"
            },
            "error_y": {
             "color": "#2a3f5f"
            },
            "marker": {
             "line": {
              "color": "#E5ECF6",
              "width": 0.5
             }
            },
            "type": "bar"
           }
          ],
          "barpolar": [
           {
            "marker": {
             "line": {
              "color": "#E5ECF6",
              "width": 0.5
             }
            },
            "type": "barpolar"
           }
          ],
          "carpet": [
           {
            "aaxis": {
             "endlinecolor": "#2a3f5f",
             "gridcolor": "white",
             "linecolor": "white",
             "minorgridcolor": "white",
             "startlinecolor": "#2a3f5f"
            },
            "baxis": {
             "endlinecolor": "#2a3f5f",
             "gridcolor": "white",
             "linecolor": "white",
             "minorgridcolor": "white",
             "startlinecolor": "#2a3f5f"
            },
            "type": "carpet"
           }
          ],
          "choropleth": [
           {
            "colorbar": {
             "outlinewidth": 0,
             "ticks": ""
            },
            "type": "choropleth"
           }
          ],
          "contour": [
           {
            "colorbar": {
             "outlinewidth": 0,
             "ticks": ""
            },
            "colorscale": [
             [
              0,
              "#0d0887"
             ],
             [
              0.1111111111111111,
              "#46039f"
             ],
             [
              0.2222222222222222,
              "#7201a8"
             ],
             [
              0.3333333333333333,
              "#9c179e"
             ],
             [
              0.4444444444444444,
              "#bd3786"
             ],
             [
              0.5555555555555556,
              "#d8576b"
             ],
             [
              0.6666666666666666,
              "#ed7953"
             ],
             [
              0.7777777777777778,
              "#fb9f3a"
             ],
             [
              0.8888888888888888,
              "#fdca26"
             ],
             [
              1,
              "#f0f921"
             ]
            ],
            "type": "contour"
           }
          ],
          "contourcarpet": [
           {
            "colorbar": {
             "outlinewidth": 0,
             "ticks": ""
            },
            "type": "contourcarpet"
           }
          ],
          "heatmap": [
           {
            "colorbar": {
             "outlinewidth": 0,
             "ticks": ""
            },
            "colorscale": [
             [
              0,
              "#0d0887"
             ],
             [
              0.1111111111111111,
              "#46039f"
             ],
             [
              0.2222222222222222,
              "#7201a8"
             ],
             [
              0.3333333333333333,
              "#9c179e"
             ],
             [
              0.4444444444444444,
              "#bd3786"
             ],
             [
              0.5555555555555556,
              "#d8576b"
             ],
             [
              0.6666666666666666,
              "#ed7953"
             ],
             [
              0.7777777777777778,
              "#fb9f3a"
             ],
             [
              0.8888888888888888,
              "#fdca26"
             ],
             [
              1,
              "#f0f921"
             ]
            ],
            "type": "heatmap"
           }
          ],
          "heatmapgl": [
           {
            "colorbar": {
             "outlinewidth": 0,
             "ticks": ""
            },
            "colorscale": [
             [
              0,
              "#0d0887"
             ],
             [
              0.1111111111111111,
              "#46039f"
             ],
             [
              0.2222222222222222,
              "#7201a8"
             ],
             [
              0.3333333333333333,
              "#9c179e"
             ],
             [
              0.4444444444444444,
              "#bd3786"
             ],
             [
              0.5555555555555556,
              "#d8576b"
             ],
             [
              0.6666666666666666,
              "#ed7953"
             ],
             [
              0.7777777777777778,
              "#fb9f3a"
             ],
             [
              0.8888888888888888,
              "#fdca26"
             ],
             [
              1,
              "#f0f921"
             ]
            ],
            "type": "heatmapgl"
           }
          ],
          "histogram": [
           {
            "marker": {
             "colorbar": {
              "outlinewidth": 0,
              "ticks": ""
             }
            },
            "type": "histogram"
           }
          ],
          "histogram2d": [
           {
            "colorbar": {
             "outlinewidth": 0,
             "ticks": ""
            },
            "colorscale": [
             [
              0,
              "#0d0887"
             ],
             [
              0.1111111111111111,
              "#46039f"
             ],
             [
              0.2222222222222222,
              "#7201a8"
             ],
             [
              0.3333333333333333,
              "#9c179e"
             ],
             [
              0.4444444444444444,
              "#bd3786"
             ],
             [
              0.5555555555555556,
              "#d8576b"
             ],
             [
              0.6666666666666666,
              "#ed7953"
             ],
             [
              0.7777777777777778,
              "#fb9f3a"
             ],
             [
              0.8888888888888888,
              "#fdca26"
             ],
             [
              1,
              "#f0f921"
             ]
            ],
            "type": "histogram2d"
           }
          ],
          "histogram2dcontour": [
           {
            "colorbar": {
             "outlinewidth": 0,
             "ticks": ""
            },
            "colorscale": [
             [
              0,
              "#0d0887"
             ],
             [
              0.1111111111111111,
              "#46039f"
             ],
             [
              0.2222222222222222,
              "#7201a8"
             ],
             [
              0.3333333333333333,
              "#9c179e"
             ],
             [
              0.4444444444444444,
              "#bd3786"
             ],
             [
              0.5555555555555556,
              "#d8576b"
             ],
             [
              0.6666666666666666,
              "#ed7953"
             ],
             [
              0.7777777777777778,
              "#fb9f3a"
             ],
             [
              0.8888888888888888,
              "#fdca26"
             ],
             [
              1,
              "#f0f921"
             ]
            ],
            "type": "histogram2dcontour"
           }
          ],
          "mesh3d": [
           {
            "colorbar": {
             "outlinewidth": 0,
             "ticks": ""
            },
            "type": "mesh3d"
           }
          ],
          "parcoords": [
           {
            "line": {
             "colorbar": {
              "outlinewidth": 0,
              "ticks": ""
             }
            },
            "type": "parcoords"
           }
          ],
          "scatter": [
           {
            "marker": {
             "colorbar": {
              "outlinewidth": 0,
              "ticks": ""
             }
            },
            "type": "scatter"
           }
          ],
          "scatter3d": [
           {
            "line": {
             "colorbar": {
              "outlinewidth": 0,
              "ticks": ""
             }
            },
            "marker": {
             "colorbar": {
              "outlinewidth": 0,
              "ticks": ""
             }
            },
            "type": "scatter3d"
           }
          ],
          "scattercarpet": [
           {
            "marker": {
             "colorbar": {
              "outlinewidth": 0,
              "ticks": ""
             }
            },
            "type": "scattercarpet"
           }
          ],
          "scattergeo": [
           {
            "marker": {
             "colorbar": {
              "outlinewidth": 0,
              "ticks": ""
             }
            },
            "type": "scattergeo"
           }
          ],
          "scattergl": [
           {
            "marker": {
             "colorbar": {
              "outlinewidth": 0,
              "ticks": ""
             }
            },
            "type": "scattergl"
           }
          ],
          "scattermapbox": [
           {
            "marker": {
             "colorbar": {
              "outlinewidth": 0,
              "ticks": ""
             }
            },
            "type": "scattermapbox"
           }
          ],
          "scatterpolar": [
           {
            "marker": {
             "colorbar": {
              "outlinewidth": 0,
              "ticks": ""
             }
            },
            "type": "scatterpolar"
           }
          ],
          "scatterpolargl": [
           {
            "marker": {
             "colorbar": {
              "outlinewidth": 0,
              "ticks": ""
             }
            },
            "type": "scatterpolargl"
           }
          ],
          "scatterternary": [
           {
            "marker": {
             "colorbar": {
              "outlinewidth": 0,
              "ticks": ""
             }
            },
            "type": "scatterternary"
           }
          ],
          "surface": [
           {
            "colorbar": {
             "outlinewidth": 0,
             "ticks": ""
            },
            "colorscale": [
             [
              0,
              "#0d0887"
             ],
             [
              0.1111111111111111,
              "#46039f"
             ],
             [
              0.2222222222222222,
              "#7201a8"
             ],
             [
              0.3333333333333333,
              "#9c179e"
             ],
             [
              0.4444444444444444,
              "#bd3786"
             ],
             [
              0.5555555555555556,
              "#d8576b"
             ],
             [
              0.6666666666666666,
              "#ed7953"
             ],
             [
              0.7777777777777778,
              "#fb9f3a"
             ],
             [
              0.8888888888888888,
              "#fdca26"
             ],
             [
              1,
              "#f0f921"
             ]
            ],
            "type": "surface"
           }
          ],
          "table": [
           {
            "cells": {
             "fill": {
              "color": "#EBF0F8"
             },
             "line": {
              "color": "white"
             }
            },
            "header": {
             "fill": {
              "color": "#C8D4E3"
             },
             "line": {
              "color": "white"
             }
            },
            "type": "table"
           }
          ]
         },
         "layout": {
          "annotationdefaults": {
           "arrowcolor": "#2a3f5f",
           "arrowhead": 0,
           "arrowwidth": 1
          },
          "colorscale": {
           "diverging": [
            [
             0,
             "#8e0152"
            ],
            [
             0.1,
             "#c51b7d"
            ],
            [
             0.2,
             "#de77ae"
            ],
            [
             0.3,
             "#f1b6da"
            ],
            [
             0.4,
             "#fde0ef"
            ],
            [
             0.5,
             "#f7f7f7"
            ],
            [
             0.6,
             "#e6f5d0"
            ],
            [
             0.7,
             "#b8e186"
            ],
            [
             0.8,
             "#7fbc41"
            ],
            [
             0.9,
             "#4d9221"
            ],
            [
             1,
             "#276419"
            ]
           ],
           "sequential": [
            [
             0,
             "#0d0887"
            ],
            [
             0.1111111111111111,
             "#46039f"
            ],
            [
             0.2222222222222222,
             "#7201a8"
            ],
            [
             0.3333333333333333,
             "#9c179e"
            ],
            [
             0.4444444444444444,
             "#bd3786"
            ],
            [
             0.5555555555555556,
             "#d8576b"
            ],
            [
             0.6666666666666666,
             "#ed7953"
            ],
            [
             0.7777777777777778,
             "#fb9f3a"
            ],
            [
             0.8888888888888888,
             "#fdca26"
            ],
            [
             1,
             "#f0f921"
            ]
           ],
           "sequentialminus": [
            [
             0,
             "#0d0887"
            ],
            [
             0.1111111111111111,
             "#46039f"
            ],
            [
             0.2222222222222222,
             "#7201a8"
            ],
            [
             0.3333333333333333,
             "#9c179e"
            ],
            [
             0.4444444444444444,
             "#bd3786"
            ],
            [
             0.5555555555555556,
             "#d8576b"
            ],
            [
             0.6666666666666666,
             "#ed7953"
            ],
            [
             0.7777777777777778,
             "#fb9f3a"
            ],
            [
             0.8888888888888888,
             "#fdca26"
            ],
            [
             1,
             "#f0f921"
            ]
           ]
          },
          "colorway": [
           "#636efa",
           "#EF553B",
           "#00cc96",
           "#ab63fa",
           "#FFA15A",
           "#19d3f3",
           "#FF6692",
           "#B6E880",
           "#FF97FF",
           "#FECB52"
          ],
          "font": {
           "color": "#2a3f5f"
          },
          "geo": {
           "bgcolor": "white",
           "lakecolor": "white",
           "landcolor": "#E5ECF6",
           "showlakes": true,
           "showland": true,
           "subunitcolor": "white"
          },
          "hoverlabel": {
           "align": "left"
          },
          "hovermode": "closest",
          "mapbox": {
           "style": "light"
          },
          "paper_bgcolor": "white",
          "plot_bgcolor": "#E5ECF6",
          "polar": {
           "angularaxis": {
            "gridcolor": "white",
            "linecolor": "white",
            "ticks": ""
           },
           "bgcolor": "#E5ECF6",
           "radialaxis": {
            "gridcolor": "white",
            "linecolor": "white",
            "ticks": ""
           }
          },
          "scene": {
           "xaxis": {
            "backgroundcolor": "#E5ECF6",
            "gridcolor": "white",
            "gridwidth": 2,
            "linecolor": "white",
            "showbackground": true,
            "ticks": "",
            "zerolinecolor": "white"
           },
           "yaxis": {
            "backgroundcolor": "#E5ECF6",
            "gridcolor": "white",
            "gridwidth": 2,
            "linecolor": "white",
            "showbackground": true,
            "ticks": "",
            "zerolinecolor": "white"
           },
           "zaxis": {
            "backgroundcolor": "#E5ECF6",
            "gridcolor": "white",
            "gridwidth": 2,
            "linecolor": "white",
            "showbackground": true,
            "ticks": "",
            "zerolinecolor": "white"
           }
          },
          "shapedefaults": {
           "line": {
            "color": "#2a3f5f"
           }
          },
          "ternary": {
           "aaxis": {
            "gridcolor": "white",
            "linecolor": "white",
            "ticks": ""
           },
           "baxis": {
            "gridcolor": "white",
            "linecolor": "white",
            "ticks": ""
           },
           "bgcolor": "#E5ECF6",
           "caxis": {
            "gridcolor": "white",
            "linecolor": "white",
            "ticks": ""
           }
          },
          "title": {
           "x": 0.05
          },
          "xaxis": {
           "automargin": true,
           "gridcolor": "white",
           "linecolor": "white",
           "ticks": "",
           "zerolinecolor": "white",
           "zerolinewidth": 2
          },
          "yaxis": {
           "automargin": true,
           "gridcolor": "white",
           "linecolor": "white",
           "ticks": "",
           "zerolinecolor": "white",
           "zerolinewidth": 2
          }
         }
        },
        "xaxis": {
         "anchor": "y",
         "domain": [
          0,
          0.98
         ],
         "showgrid": true,
         "ticks": "outside",
         "title": {
          "text": "N. shops"
         },
         "type": "category"
        },
        "yaxis": {
         "anchor": "x",
         "domain": [
          0,
          1
         ],
         "title": {
          "text": "Price per unit"
         }
        }
       }
      },
      "text/html": [
       "<div>\n",
       "        \n",
       "        \n",
       "            <div id=\"9dd62dbf-c0d7-41e9-8bb8-9f30434d2277\" class=\"plotly-graph-div\" style=\"height:600px; width:100%;\"></div>\n",
       "            <script type=\"text/javascript\">\n",
       "                require([\"plotly\"], function(Plotly) {\n",
       "                    window.PLOTLYENV=window.PLOTLYENV || {};\n",
       "                    \n",
       "                if (document.getElementById(\"9dd62dbf-c0d7-41e9-8bb8-9f30434d2277\")) {\n",
       "                    Plotly.newPlot(\n",
       "                        '9dd62dbf-c0d7-41e9-8bb8-9f30434d2277',\n",
       "                        [{\"hoverlabel\": {\"namelength\": 0}, \"hovertemplate\": \"Price category=Middle price<br>N. shops=%{x}<br>Price per unit=%{y}\", \"legendgroup\": \"Price category=Middle price\", \"marker\": {\"color\": \"#636efa\", \"symbol\": \"circle\"}, \"mode\": \"markers\", \"name\": \"Price category=Middle price\", \"showlegend\": true, \"type\": \"scatter\", \"x\": [10, 9, 5, 5, 3, 7, 6, 3, 1, 5, 4, 4, 1, 8, 7, 3, 1, 7, 4, 2, 5, 4, 0, 7, 1, 6, 0, 2, 1, 6, 5, 5, 6, 8, 9, 4, 1, 3, 5, 8, 1, 5, 2, 3, 0, 8, 6, 5, 3, 8, 0, 1, 3, 3, 2, 1, 4, 6, 7, 7, 1, 0, 0, 1, 0, 4, 5, 3, 4, 1, 6, 6, 8, 1, 2, 3, 7, 3, 2, 3, 5, 5, 4, 0, 6, 7, 8, 3, 5, 8, 6, 0, 5, 6, 0, 5, 3, 5, 5, 1, 5, 8, 0, 8, 7, 9, 1, 6, 0, 4, 5, 4, 3, 1, 8, 5, 1, 4, 7, 3, 9, 4, 1, 3, 0, 3, 3, 0, 8, 0, 8, 2, 7, 5, 0, 5, 2, 8, 7, 8, 0, 5, 3, 5, 1, 3, 10, 3, 1, 8, 1, 2, 3, 8, 1, 6, 5, 8, 0, 10, 0, 6, 6, 8, 0, 3, 9, 4, 7, 0, 0, 0, 2, 7, 3, 8, 3, 5, 6, 0, 0, 7, 2, 1, 1, 0, 4, 3, 3, 7, 4, 3, 5, 5, 0, 8, 5, 1, 7, 7, 5, 3, 6, 3, 6, 9, 1, 2, 7, 5, 5, 0, 5, 7, 6, 3, 4, 4, 10, 4, 0, 3, 0, 3, 0, 2, 4, 5, 6, 2, 7, 2, 10, 5, 4, 1, 6, 2, 8, 3, 3, 2, 5, 5, 6, 2, 5, 9, 0, 2, 8, 0, 0, 2, 5, 5, 3, 3, 3, 1, 1, 9, 6, 0, 10, 4, 10, 7, 4, 1, 2, 1, 3, 5, 7, 5, 0, 2, 8, 9, 0, 4, 10, 3, 4, 9, 1, 6, 4, 1, 4, 1, 4, 2, 1, 5, 3, 1, 9, 5, 6, 7, 0, 3, 7], \"xaxis\": \"x\", \"y\": [37.9, 42.2, 47.3, 43.1, 32.1, 40.3, 46.7, 22.1, 41.4, 39.3, 23.8, 34.3, 37.4, 42.3, 47.7, 29.3, 24.6, 47.9, 38.8, 27.0, 33.6, 47.0, 22.1, 25.0, 34.2, 49.3, 27.3, 22.9, 25.3, 47.7, 46.2, 34.7, 34.1, 38.3, 42.0, 44.2, 20.7, 27.0, 38.9, 41.9, 22.6, 42.4, 21.3, 27.7, 25.3, 44.3, 36.2, 42.0, 40.8, 36.3, 20.0, 29.5, 36.8, 25.6, 29.8, 26.5, 40.3, 36.8, 48.1, 43.7, 27.0, 48.0, 25.3, 45.4, 43.2, 21.8, 41.0, 34.6, 38.2, 32.9, 45.7, 30.5, 47.1, 26.6, 34.1, 28.4, 39.4, 23.1, 46.4, 30.6, 31.3, 48.0, 32.5, 45.5, 48.6, 41.0, 37.5, 30.7, 37.5, 39.5, 42.2, 20.8, 46.8, 47.4, 43.5, 42.5, 28.9, 37.5, 40.1, 28.4, 45.5, 43.2, 45.1, 39.7, 48.5, 44.7, 28.9, 40.9, 20.7, 35.6, 39.4, 37.4, 39.6, 30.6, 43.4, 37.4, 23.5, 35.1, 45.2, 36.5, 42.0, 36.7, 42.6, 23.6, 21.8, 21.5, 25.7, 22.0, 44.3, 20.5, 42.3, 37.8, 42.7, 49.3, 29.3, 34.6, 36.6, 48.2, 39.1, 31.6, 25.5, 45.9, 31.5, 46.1, 26.6, 21.4, 44.0, 34.2, 26.2, 40.9, 43.5, 31.1, 20.9, 48.1, 39.7, 40.8, 43.8, 40.2, 38.5, 48.5, 42.3, 46.0, 49.0, 40.2, 46.6, 33.4, 32.4, 23.9, 39.3, 39.0, 40.6, 29.7, 28.8, 41.4, 33.4, 48.2, 21.7, 40.8, 40.6, 23.1, 22.3, 30.0, 25.9, 26.5, 43.9, 28.8, 30.7, 24.4, 31.7, 40.6, 38.1, 23.7, 41.1, 40.1, 23.0, 26.5, 40.5, 29.3, 41.0, 49.7, 34.0, 27.7, 44.0, 31.1, 45.4, 44.8, 25.6, 23.5, 34.4, 32.9, 44.5, 37.0, 24.5, 42.5, 38.1, 21.8, 34.1, 28.5, 46.1, 36.9, 35.7, 23.2, 38.4, 29.4, 24.7, 24.7, 42.2, 42.8, 41.6, 27.3, 42.0, 37.5, 49.8, 26.9, 37.7, 33.1, 42.5, 31.3, 38.1, 36.7, 23.6, 39.6, 38.4, 22.8, 36.5, 35.6, 30.9, 36.3, 42.9, 37.0, 46.6, 41.2, 37.9, 30.8, 47.0, 42.3, 28.6, 25.7, 31.3, 30.1, 45.3, 44.9, 45.1, 24.7, 47.1, 40.0, 48.0, 33.1, 29.5, 24.8, 20.9, 43.1, 22.8, 42.1, 41.5, 49.5, 23.8, 30.5, 37.4, 47.3, 29.3, 40.3, 46.6, 25.6, 27.3, 38.6, 31.3, 35.3, 40.3, 24.7, 42.5, 31.9, 32.2, 23.0, 37.3, 35.5, 27.7, 28.5, 39.7, 41.2, 37.2, 40.5, 22.3, 28.1, 40.6], \"yaxis\": \"y\"}, {\"hoverlabel\": {\"namelength\": 0}, \"hovertemplate\": \"Price category=High price<br>N. shops=%{x}<br>Price per unit=%{y}\", \"legendgroup\": \"Price category=High price\", \"marker\": {\"color\": \"#EF553B\", \"symbol\": \"circle\"}, \"mode\": \"markers\", \"name\": \"Price category=High price\", \"showlegend\": true, \"type\": \"scatter\", \"x\": [5, 9, 2, 6, 7, 5, 5, 7, 4, 3, 5, 7, 6, 4, 6, 5, 9, 10, 9, 5, 9, 5, 9, 6, 6, 5, 8, 5, 7, 4, 5, 6, 5, 0, 8, 5, 0, 6, 5, 9, 8, 5, 9, 9, 10, 9, 5, 6, 5, 1, 3, 9, 6, 7, 5, 1, 5, 9, 7, 5, 9, 6, 5, 8, 5, 1, 8, 6, 5, 0, 8, 9, 5, 9], \"xaxis\": \"x\", \"y\": [54.8, 58.1, 50.5, 70.1, 51.6, 56.2, 57.1, 55.1, 53.9, 61.5, 51.7, 53.5, 63.2, 55.0, 50.7, 56.8, 59.0, 54.4, 50.8, 51.8, 59.5, 51.0, 62.2, 54.4, 71.0, 51.6, 53.3, 59.6, 57.4, 62.9, 55.0, 60.7, 51.4, 52.2, 57.8, 55.5, 55.2, 73.6, 58.8, 58.1, 55.9, 52.2, 58.0, 78.3, 61.9, 52.7, 51.8, 63.3, 53.0, 117.5, 55.3, 56.3, 51.0, 54.4, 55.0, 50.2, 53.0, 78.0, 62.1, 50.4, 53.5, 53.7, 60.7, 63.3, 51.7, 52.2, 56.8, 69.7, 53.3, 55.3, 67.7, 50.0, 52.5, 63.9], \"yaxis\": \"y\"}, {\"hoverlabel\": {\"namelength\": 0}, \"hovertemplate\": \"Price category=Low price<br>N. shops=%{x}<br>Price per unit=%{y}\", \"legendgroup\": \"Price category=Low price\", \"marker\": {\"color\": \"#00cc96\", \"symbol\": \"circle\"}, \"mode\": \"markers\", \"name\": \"Price category=Low price\", \"showlegend\": true, \"type\": \"scatter\", \"x\": [1, 0, 0, 0, 1, 0, 3, 0, 0, 6, 1, 0, 0, 0, 0, 0, 0, 0, 0, 0, 0, 0, 1, 1, 0, 1, 0, 0, 0, 0, 0, 0, 1, 0, 0], \"xaxis\": \"x\", \"y\": [18.8, 15.9, 18.2, 13.4, 13.2, 13.7, 17.7, 18.3, 16.1, 7.6, 12.2, 13.0, 15.6, 18.3, 11.6, 14.4, 19.2, 15.5, 18.8, 12.8, 19.0, 14.7, 17.4, 15.0, 13.8, 17.4, 16.7, 19.1, 18.6, 19.2, 12.8, 15.6, 11.2, 12.9, 15.4], \"yaxis\": \"y\"}],\n",
       "                        {\"height\": 600, \"legend\": {\"tracegroupgap\": 0}, \"margin\": {\"t\": 60}, \"template\": {\"data\": {\"bar\": [{\"error_x\": {\"color\": \"#2a3f5f\"}, \"error_y\": {\"color\": \"#2a3f5f\"}, \"marker\": {\"line\": {\"color\": \"#E5ECF6\", \"width\": 0.5}}, \"type\": \"bar\"}], \"barpolar\": [{\"marker\": {\"line\": {\"color\": \"#E5ECF6\", \"width\": 0.5}}, \"type\": \"barpolar\"}], \"carpet\": [{\"aaxis\": {\"endlinecolor\": \"#2a3f5f\", \"gridcolor\": \"white\", \"linecolor\": \"white\", \"minorgridcolor\": \"white\", \"startlinecolor\": \"#2a3f5f\"}, \"baxis\": {\"endlinecolor\": \"#2a3f5f\", \"gridcolor\": \"white\", \"linecolor\": \"white\", \"minorgridcolor\": \"white\", \"startlinecolor\": \"#2a3f5f\"}, \"type\": \"carpet\"}], \"choropleth\": [{\"colorbar\": {\"outlinewidth\": 0, \"ticks\": \"\"}, \"type\": \"choropleth\"}], \"contour\": [{\"colorbar\": {\"outlinewidth\": 0, \"ticks\": \"\"}, \"colorscale\": [[0.0, \"#0d0887\"], [0.1111111111111111, \"#46039f\"], [0.2222222222222222, \"#7201a8\"], [0.3333333333333333, \"#9c179e\"], [0.4444444444444444, \"#bd3786\"], [0.5555555555555556, \"#d8576b\"], [0.6666666666666666, \"#ed7953\"], [0.7777777777777778, \"#fb9f3a\"], [0.8888888888888888, \"#fdca26\"], [1.0, \"#f0f921\"]], \"type\": \"contour\"}], \"contourcarpet\": [{\"colorbar\": {\"outlinewidth\": 0, \"ticks\": \"\"}, \"type\": \"contourcarpet\"}], \"heatmap\": [{\"colorbar\": {\"outlinewidth\": 0, \"ticks\": \"\"}, \"colorscale\": [[0.0, \"#0d0887\"], [0.1111111111111111, \"#46039f\"], [0.2222222222222222, \"#7201a8\"], [0.3333333333333333, \"#9c179e\"], [0.4444444444444444, \"#bd3786\"], [0.5555555555555556, \"#d8576b\"], [0.6666666666666666, \"#ed7953\"], [0.7777777777777778, \"#fb9f3a\"], [0.8888888888888888, \"#fdca26\"], [1.0, \"#f0f921\"]], \"type\": \"heatmap\"}], \"heatmapgl\": [{\"colorbar\": {\"outlinewidth\": 0, \"ticks\": \"\"}, \"colorscale\": [[0.0, \"#0d0887\"], [0.1111111111111111, \"#46039f\"], [0.2222222222222222, \"#7201a8\"], [0.3333333333333333, \"#9c179e\"], [0.4444444444444444, \"#bd3786\"], [0.5555555555555556, \"#d8576b\"], [0.6666666666666666, \"#ed7953\"], [0.7777777777777778, \"#fb9f3a\"], [0.8888888888888888, \"#fdca26\"], [1.0, \"#f0f921\"]], \"type\": \"heatmapgl\"}], \"histogram\": [{\"marker\": {\"colorbar\": {\"outlinewidth\": 0, \"ticks\": \"\"}}, \"type\": \"histogram\"}], \"histogram2d\": [{\"colorbar\": {\"outlinewidth\": 0, \"ticks\": \"\"}, \"colorscale\": [[0.0, \"#0d0887\"], [0.1111111111111111, \"#46039f\"], [0.2222222222222222, \"#7201a8\"], [0.3333333333333333, \"#9c179e\"], [0.4444444444444444, \"#bd3786\"], [0.5555555555555556, \"#d8576b\"], [0.6666666666666666, \"#ed7953\"], [0.7777777777777778, \"#fb9f3a\"], [0.8888888888888888, \"#fdca26\"], [1.0, \"#f0f921\"]], \"type\": \"histogram2d\"}], \"histogram2dcontour\": [{\"colorbar\": {\"outlinewidth\": 0, \"ticks\": \"\"}, \"colorscale\": [[0.0, \"#0d0887\"], [0.1111111111111111, \"#46039f\"], [0.2222222222222222, \"#7201a8\"], [0.3333333333333333, \"#9c179e\"], [0.4444444444444444, \"#bd3786\"], [0.5555555555555556, \"#d8576b\"], [0.6666666666666666, \"#ed7953\"], [0.7777777777777778, \"#fb9f3a\"], [0.8888888888888888, \"#fdca26\"], [1.0, \"#f0f921\"]], \"type\": \"histogram2dcontour\"}], \"mesh3d\": [{\"colorbar\": {\"outlinewidth\": 0, \"ticks\": \"\"}, \"type\": \"mesh3d\"}], \"parcoords\": [{\"line\": {\"colorbar\": {\"outlinewidth\": 0, \"ticks\": \"\"}}, \"type\": \"parcoords\"}], \"scatter\": [{\"marker\": {\"colorbar\": {\"outlinewidth\": 0, \"ticks\": \"\"}}, \"type\": \"scatter\"}], \"scatter3d\": [{\"line\": {\"colorbar\": {\"outlinewidth\": 0, \"ticks\": \"\"}}, \"marker\": {\"colorbar\": {\"outlinewidth\": 0, \"ticks\": \"\"}}, \"type\": \"scatter3d\"}], \"scattercarpet\": [{\"marker\": {\"colorbar\": {\"outlinewidth\": 0, \"ticks\": \"\"}}, \"type\": \"scattercarpet\"}], \"scattergeo\": [{\"marker\": {\"colorbar\": {\"outlinewidth\": 0, \"ticks\": \"\"}}, \"type\": \"scattergeo\"}], \"scattergl\": [{\"marker\": {\"colorbar\": {\"outlinewidth\": 0, \"ticks\": \"\"}}, \"type\": \"scattergl\"}], \"scattermapbox\": [{\"marker\": {\"colorbar\": {\"outlinewidth\": 0, \"ticks\": \"\"}}, \"type\": \"scattermapbox\"}], \"scatterpolar\": [{\"marker\": {\"colorbar\": {\"outlinewidth\": 0, \"ticks\": \"\"}}, \"type\": \"scatterpolar\"}], \"scatterpolargl\": [{\"marker\": {\"colorbar\": {\"outlinewidth\": 0, \"ticks\": \"\"}}, \"type\": \"scatterpolargl\"}], \"scatterternary\": [{\"marker\": {\"colorbar\": {\"outlinewidth\": 0, \"ticks\": \"\"}}, \"type\": \"scatterternary\"}], \"surface\": [{\"colorbar\": {\"outlinewidth\": 0, \"ticks\": \"\"}, \"colorscale\": [[0.0, \"#0d0887\"], [0.1111111111111111, \"#46039f\"], [0.2222222222222222, \"#7201a8\"], [0.3333333333333333, \"#9c179e\"], [0.4444444444444444, \"#bd3786\"], [0.5555555555555556, \"#d8576b\"], [0.6666666666666666, \"#ed7953\"], [0.7777777777777778, \"#fb9f3a\"], [0.8888888888888888, \"#fdca26\"], [1.0, \"#f0f921\"]], \"type\": \"surface\"}], \"table\": [{\"cells\": {\"fill\": {\"color\": \"#EBF0F8\"}, \"line\": {\"color\": \"white\"}}, \"header\": {\"fill\": {\"color\": \"#C8D4E3\"}, \"line\": {\"color\": \"white\"}}, \"type\": \"table\"}]}, \"layout\": {\"annotationdefaults\": {\"arrowcolor\": \"#2a3f5f\", \"arrowhead\": 0, \"arrowwidth\": 1}, \"colorscale\": {\"diverging\": [[0, \"#8e0152\"], [0.1, \"#c51b7d\"], [0.2, \"#de77ae\"], [0.3, \"#f1b6da\"], [0.4, \"#fde0ef\"], [0.5, \"#f7f7f7\"], [0.6, \"#e6f5d0\"], [0.7, \"#b8e186\"], [0.8, \"#7fbc41\"], [0.9, \"#4d9221\"], [1, \"#276419\"]], \"sequential\": [[0.0, \"#0d0887\"], [0.1111111111111111, \"#46039f\"], [0.2222222222222222, \"#7201a8\"], [0.3333333333333333, \"#9c179e\"], [0.4444444444444444, \"#bd3786\"], [0.5555555555555556, \"#d8576b\"], [0.6666666666666666, \"#ed7953\"], [0.7777777777777778, \"#fb9f3a\"], [0.8888888888888888, \"#fdca26\"], [1.0, \"#f0f921\"]], \"sequentialminus\": [[0.0, \"#0d0887\"], [0.1111111111111111, \"#46039f\"], [0.2222222222222222, \"#7201a8\"], [0.3333333333333333, \"#9c179e\"], [0.4444444444444444, \"#bd3786\"], [0.5555555555555556, \"#d8576b\"], [0.6666666666666666, \"#ed7953\"], [0.7777777777777778, \"#fb9f3a\"], [0.8888888888888888, \"#fdca26\"], [1.0, \"#f0f921\"]]}, \"colorway\": [\"#636efa\", \"#EF553B\", \"#00cc96\", \"#ab63fa\", \"#FFA15A\", \"#19d3f3\", \"#FF6692\", \"#B6E880\", \"#FF97FF\", \"#FECB52\"], \"font\": {\"color\": \"#2a3f5f\"}, \"geo\": {\"bgcolor\": \"white\", \"lakecolor\": \"white\", \"landcolor\": \"#E5ECF6\", \"showlakes\": true, \"showland\": true, \"subunitcolor\": \"white\"}, \"hoverlabel\": {\"align\": \"left\"}, \"hovermode\": \"closest\", \"mapbox\": {\"style\": \"light\"}, \"paper_bgcolor\": \"white\", \"plot_bgcolor\": \"#E5ECF6\", \"polar\": {\"angularaxis\": {\"gridcolor\": \"white\", \"linecolor\": \"white\", \"ticks\": \"\"}, \"bgcolor\": \"#E5ECF6\", \"radialaxis\": {\"gridcolor\": \"white\", \"linecolor\": \"white\", \"ticks\": \"\"}}, \"scene\": {\"xaxis\": {\"backgroundcolor\": \"#E5ECF6\", \"gridcolor\": \"white\", \"gridwidth\": 2, \"linecolor\": \"white\", \"showbackground\": true, \"ticks\": \"\", \"zerolinecolor\": \"white\"}, \"yaxis\": {\"backgroundcolor\": \"#E5ECF6\", \"gridcolor\": \"white\", \"gridwidth\": 2, \"linecolor\": \"white\", \"showbackground\": true, \"ticks\": \"\", \"zerolinecolor\": \"white\"}, \"zaxis\": {\"backgroundcolor\": \"#E5ECF6\", \"gridcolor\": \"white\", \"gridwidth\": 2, \"linecolor\": \"white\", \"showbackground\": true, \"ticks\": \"\", \"zerolinecolor\": \"white\"}}, \"shapedefaults\": {\"line\": {\"color\": \"#2a3f5f\"}}, \"ternary\": {\"aaxis\": {\"gridcolor\": \"white\", \"linecolor\": \"white\", \"ticks\": \"\"}, \"baxis\": {\"gridcolor\": \"white\", \"linecolor\": \"white\", \"ticks\": \"\"}, \"bgcolor\": \"#E5ECF6\", \"caxis\": {\"gridcolor\": \"white\", \"linecolor\": \"white\", \"ticks\": \"\"}}, \"title\": {\"x\": 0.05}, \"xaxis\": {\"automargin\": true, \"gridcolor\": \"white\", \"linecolor\": \"white\", \"ticks\": \"\", \"zerolinecolor\": \"white\", \"zerolinewidth\": 2}, \"yaxis\": {\"automargin\": true, \"gridcolor\": \"white\", \"linecolor\": \"white\", \"ticks\": \"\", \"zerolinecolor\": \"white\", \"zerolinewidth\": 2}}}, \"xaxis\": {\"anchor\": \"y\", \"domain\": [0.0, 0.98], \"showgrid\": true, \"ticks\": \"outside\", \"title\": {\"text\": \"N. shops\"}, \"type\": \"category\"}, \"yaxis\": {\"anchor\": \"x\", \"domain\": [0.0, 1.0], \"title\": {\"text\": \"Price per unit\"}}},\n",
       "                        {\"responsive\": true}\n",
       "                    ).then(function(){\n",
       "                            \n",
       "var gd = document.getElementById('9dd62dbf-c0d7-41e9-8bb8-9f30434d2277');\n",
       "var x = new MutationObserver(function (mutations, observer) {{\n",
       "        var display = window.getComputedStyle(gd).display;\n",
       "        if (!display || display === 'none') {{\n",
       "            console.log([gd, 'removed!']);\n",
       "            Plotly.purge(gd);\n",
       "            observer.disconnect();\n",
       "        }}\n",
       "}});\n",
       "\n",
       "// Listen for the removal of the full notebook cells\n",
       "var notebookContainer = gd.closest('#notebook-container');\n",
       "if (notebookContainer) {{\n",
       "    x.observe(notebookContainer, {childList: true});\n",
       "}}\n",
       "\n",
       "// Listen for the clearing of the current output cell\n",
       "var outputEl = gd.closest('.output');\n",
       "if (outputEl) {{\n",
       "    x.observe(outputEl, {childList: true});\n",
       "}}\n",
       "\n",
       "                        })\n",
       "                };\n",
       "                });\n",
       "            </script>\n",
       "        </div>"
      ]
     },
     "metadata": {},
     "output_type": "display_data"
    }
   ],
   "source": [
    "fig = px.scatter(df, x=\"N. shops\", y=\"Price per unit\", color =\"Price category\")\n",
    "fig.update_xaxes(type='category', showgrid=True, ticks=\"outside\")\n",
    "fig.show()"
   ]
  },
  {
   "cell_type": "code",
   "execution_count": null,
   "metadata": {},
   "outputs": [],
   "source": []
  }
 ],
 "metadata": {
  "kernelspec": {
   "display_name": "Python 3",
   "language": "python",
   "name": "python3"
  },
  "language_info": {
   "codemirror_mode": {
    "name": "ipython",
    "version": 3
   },
   "file_extension": ".py",
   "mimetype": "text/x-python",
   "name": "python",
   "nbconvert_exporter": "python",
   "pygments_lexer": "ipython3",
   "version": "3.7.6"
  },
  "toc": {
   "base_numbering": 1,
   "nav_menu": {},
   "number_sections": false,
   "sideBar": false,
   "skip_h1_title": false,
   "title_cell": "Table of Contents",
   "title_sidebar": "Contents",
   "toc_cell": false,
   "toc_position": {},
   "toc_section_display": false,
   "toc_window_display": false
  }
 },
 "nbformat": 4,
 "nbformat_minor": 2
}
